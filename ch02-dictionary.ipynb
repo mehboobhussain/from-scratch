{
 "cells": [
  {
   "cell_type": "markdown",
   "metadata": {
    "colab_type": "text",
    "id": "view-in-github"
   },
   "source": [
    "<a href=\"https://colab.research.google.com/github/mehboobhussain/learn-python/blob/master/dictionary.ipynb\" target=\"_parent\"><img src=\"https://colab.research.google.com/assets/colab-badge.svg\" alt=\"Open In Colab\"/></a>"
   ]
  },
  {
   "cell_type": "markdown",
   "metadata": {
    "colab_type": "text",
    "id": "iURtTKQL3e2s"
   },
   "source": [
    "Lets explore dictionary"
   ]
  },
  {
   "cell_type": "code",
   "execution_count": 0,
   "metadata": {
    "colab": {},
    "colab_type": "code",
    "id": "vcyBqfQmYPfv"
   },
   "outputs": [],
   "source": [
    "phonebook = {\n",
    "    \"Mehboob\" : 556025563,\n",
    "    \"Fatima\" : 555637584\n",
    "}\n"
   ]
  },
  {
   "cell_type": "markdown",
   "metadata": {
    "colab_type": "text",
    "id": "C_DZX6kVVYL2"
   },
   "source": [
    "The phone book has been defined as a dictionary. Now lets access it"
   ]
  },
  {
   "cell_type": "code",
   "execution_count": 0,
   "metadata": {
    "colab": {},
    "colab_type": "code",
    "id": "2tqgEHhMfZ4P"
   },
   "outputs": [],
   "source": [
    "phonebook = {\n",
    "    \"Mehboob\" : 556025563,\n",
    "    \"Fatima\" : 555637584\n",
    "}\n",
    "\n",
    "print (phonebook)\n",
    "username = \"Mehboob\"\n",
    "if username in phonebook:\n",
    "  print (\"great job\", username, \"is in the phonebook\")\n",
    "  print (\"the phone number is \",phonebook[username])\n",
    "  name = \"\"\n",
    "print (\"\\nNow traversing the phone book\")\n",
    "for x in phonebook.items():\n",
    "  print (\"-\",name, x)\n",
    "phonebook.pop(\"Mehboob\")\n",
    "print(phonebook)\n"
   ]
  },
  {
   "cell_type": "code",
   "execution_count": 0,
   "metadata": {
    "colab": {},
    "colab_type": "code",
    "id": "StANGUD0bPuW"
   },
   "outputs": [],
   "source": [
    "import re\n",
    "\n",
    "# Your code goes here\n",
    "find_members = []\n",
    "for member in dir(re):\n",
    "    print (member)\n",
    "    if \"file\" in member:\n",
    "        find_members.append(member)\n",
    "        print (\"--->found in\", member)\n",
    "\n",
    "print(sorted(find_members))\n"
   ]
  }
 ],
 "metadata": {
  "colab": {
   "collapsed_sections": [],
   "include_colab_link": true,
   "name": "dictionary.ipynb",
   "private_outputs": true,
   "provenance": []
  },
  "kernelspec": {
   "display_name": "Python 3",
   "language": "python",
   "name": "python3"
  },
  "language_info": {
   "codemirror_mode": {
    "name": "ipython",
    "version": 3
   },
   "file_extension": ".py",
   "mimetype": "text/x-python",
   "name": "python",
   "nbconvert_exporter": "python",
   "pygments_lexer": "ipython3",
   "version": "3.8.2"
  }
 },
 "nbformat": 4,
 "nbformat_minor": 1
}
