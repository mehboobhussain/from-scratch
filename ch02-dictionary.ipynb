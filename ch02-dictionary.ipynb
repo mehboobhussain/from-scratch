{
  "nbformat": 4,
  "nbformat_minor": 0,
  "metadata": {
    "colab": {
      "name": "dictionary.ipynb",
      "provenance": [],
      "private_outputs": true,
      "collapsed_sections": [],
      "include_colab_link": true
    },
    "kernelspec": {
      "name": "python3",
      "display_name": "Python 3"
    }
  },
  "cells": [
    {
      "cell_type": "markdown",
      "metadata": {
        "id": "view-in-github",
        "colab_type": "text"
      },
      "source": [
        "<a href=\"https://colab.research.google.com/github/mehboobhussain/learn-python/blob/master/dictionary.ipynb\" target=\"_parent\"><img src=\"https://colab.research.google.com/assets/colab-badge.svg\" alt=\"Open In Colab\"/></a>"
      ]
    },
    {
      "cell_type": "markdown",
      "metadata": {
        "id": "iURtTKQL3e2s",
        "colab_type": "text"
      },
      "source": [
        "Lets explore dictionary"
      ]
    },
    {
      "cell_type": "code",
      "metadata": {
        "id": "vcyBqfQmYPfv",
        "colab_type": "code",
        "colab": {}
      },
      "source": [
        "phonebook = {\n",
        "    \"Mehboob\" : 556025563,\n",
        "    \"Fatima\" : 555637584\n",
        "}\n"
      ],
      "execution_count": 0,
      "outputs": []
    },
    {
      "cell_type": "markdown",
      "metadata": {
        "id": "C_DZX6kVVYL2",
        "colab_type": "text"
      },
      "source": [
        "The phone book has been defined as a dictionary. Now lets access it"
      ]
    },
    {
      "cell_type": "code",
      "metadata": {
        "id": "2tqgEHhMfZ4P",
        "colab_type": "code",
        "colab": {}
      },
      "source": [
        "phonebook = {\n",
        "    \"Mehboob\" : 556025563,\n",
        "    \"Fatima\" : 555637584\n",
        "}\n",
        "\n",
        "print (phonebook)\n",
        "username = \"Mehboob\"\n",
        "if username in phonebook:\n",
        "  print (\"great job\", username, \"is in the phonebook\")\n",
        "  print (\"the phone number is \",phonebook[username])\n",
        "  name = \"\"\n",
        "print (\"\\nNow traversing the phone book\")\n",
        "for x in phonebook.items():\n",
        "  print (\"-\",name, x)\n",
        "phonebook.pop(\"Mehboob\")\n",
        "print(phonebook)\n"
      ],
      "execution_count": 0,
      "outputs": []
    },
    {
      "cell_type": "code",
      "metadata": {
        "id": "StANGUD0bPuW",
        "colab_type": "code",
        "colab": {}
      },
      "source": [
        "import re\n",
        "\n",
        "# Your code goes here\n",
        "find_members = []\n",
        "for member in dir(re):\n",
        "    print (member)\n",
        "    if \"file\" in member:\n",
        "        find_members.append(member)\n",
        "        print (\"--->found in\", member)\n",
        "\n",
        "print(sorted(find_members))\n"
      ],
      "execution_count": 0,
      "outputs": []
    }
  ]
}