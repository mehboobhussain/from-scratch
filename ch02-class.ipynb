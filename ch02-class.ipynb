{
  "nbformat": 4,
  "nbformat_minor": 0,
  "metadata": {
    "colab": {
      "name": "class.ipynb",
      "provenance": [],
      "private_outputs": true,
      "collapsed_sections": [],
      "include_colab_link": true
    },
    "kernelspec": {
      "name": "python3",
      "display_name": "Python 3"
    }
  },
  "cells": [
    {
      "cell_type": "markdown",
      "metadata": {
        "id": "view-in-github",
        "colab_type": "text"
      },
      "source": [
        "<a href=\"https://colab.research.google.com/github/mehboobhussain/learn-python/blob/master/class.ipynb\" target=\"_parent\"><img src=\"https://colab.research.google.com/assets/colab-badge.svg\" alt=\"Open In Colab\"/></a>"
      ]
    },
    {
      "cell_type": "markdown",
      "metadata": {
        "id": "iURtTKQL3e2s",
        "colab_type": "text"
      },
      "source": [
        "Class is defined with the keyword class, name of the class and : not () are required\n",
        "Class can have it variables that are available to the instances of the class. However, the functions within the class are private and cant even see the variables defined at the class level\n",
        "To use these variables, we need to pass self as a parameter. It is equivalent to this in java"
      ]
    },
    {
      "cell_type": "code",
      "metadata": {
        "id": "vcyBqfQmYPfv",
        "colab_type": "code",
        "colab": {}
      },
      "source": [
        "class car:\n",
        "  def __init__(self, a=\"Car\", b=0, c=\"no\", d=\"generic\"):\n",
        "    self.name      = a\n",
        "    self.price     = b\n",
        "    self.color     = c\n",
        "    self.category  = d\n",
        "\n",
        "  def describe(self):\n",
        "    print (self.name, \"has a\", self.color, \"colour, it is a\", self.category, \"type and costs\", self.price)\n"
      ],
      "execution_count": 0,
      "outputs": []
    },
    {
      "cell_type": "markdown",
      "metadata": {
        "id": "C_DZX6kVVYL2",
        "colab_type": "text"
      },
      "source": [
        "Once a class has been declared, you can create instances of the class\n",
        "by assigning class to variables. each variable is an instance of the classs. Instance variable inherits the global variables of the class as well the functions defined at the class level"
      ]
    },
    {
      "cell_type": "code",
      "metadata": {
        "id": "2tqgEHhMfZ4P",
        "colab_type": "code",
        "colab": {}
      },
      "source": [
        "car1 = car()\n",
        "car1.describe()\n",
        "car1 = car(\"Mazda\")\n",
        "car1.describe()\n",
        "car1.name = \"Vitara\"\n",
        "car1.price = 50000\n",
        "car1.category = \"Coupe\"\n",
        "car1.describe()\n"
      ],
      "execution_count": 0,
      "outputs": []
    }
  ]
}