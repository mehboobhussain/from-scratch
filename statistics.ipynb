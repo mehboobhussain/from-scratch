{
 "cells": [
  {
   "cell_type": "code",
   "execution_count": 27,
   "metadata": {},
   "outputs": [],
   "source": [
    "import collections"
   ]
  },
  {
   "cell_type": "code",
   "execution_count": 31,
   "metadata": {},
   "outputs": [],
   "source": [
    "def median(v):\n",
    "    '''find the middle most value of v'''\n",
    "    n = len(v)\n",
    "    sorted_v = sorted(v)\n",
    "    midpoint = n//2\n",
    "    if n % 2 == 1:\n",
    "        #if odd number elements in the list then return middle value\n",
    "        return sorted_v[midpoint]\n",
    "    else:\n",
    "        #if even, return the average of the middle values\n",
    "        lo = midpoint - 1\n",
    "        hi = midpoint \n",
    "        return (sorted_v[lo] + sorted_v[hi])/2\n",
    "    "
   ]
  },
  {
   "cell_type": "code",
   "execution_count": 32,
   "metadata": {},
   "outputs": [],
   "source": [
    "def quantile(x, p):\n",
    "    '''return p-th percentile value in x'''\n",
    "    counts = collections.Counter(x)\n",
    "    maxcount = max(counts.values())\n",
    "    p_index = int(p * len(x))\n",
    "    return sorted(x)[p_index]"
   ]
  },
  {
   "cell_type": "code",
   "execution_count": 35,
   "metadata": {},
   "outputs": [
    {
     "name": "stdout",
     "output_type": "stream",
     "text": [
      "5.5\n",
      "10\n"
     ]
    }
   ],
   "source": [
    "num_friends = [2,3,5,4,5,6,7,8,10,12]\n",
    "print (median(num_friends))\n",
    "print(quantile(num_friends, 0.80))"
   ]
  },
  {
   "cell_type": "code",
   "execution_count": null,
   "metadata": {},
   "outputs": [],
   "source": []
  }
 ],
 "metadata": {
  "kernelspec": {
   "display_name": "Python 3",
   "language": "python",
   "name": "python3"
  },
  "language_info": {
   "codemirror_mode": {
    "name": "ipython",
    "version": 3
   },
   "file_extension": ".py",
   "mimetype": "text/x-python",
   "name": "python",
   "nbconvert_exporter": "python",
   "pygments_lexer": "ipython3",
   "version": "3.8.2"
  }
 },
 "nbformat": 4,
 "nbformat_minor": 4
}
