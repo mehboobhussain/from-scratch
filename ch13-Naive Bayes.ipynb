{
 "cells": [
  {
   "cell_type": "markdown",
   "metadata": {},
   "source": [
    "## Naive Bayes algorith\n",
    "Implementation of a simple naive bayes algorithm to classify spam emails"
   ]
  },
  {
   "cell_type": "code",
   "execution_count": 8,
   "metadata": {},
   "outputs": [],
   "source": [
    "import glob, re\n",
    "import random\n",
    "from collections import defaultdict, Counter"
   ]
  },
  {
   "cell_type": "markdown",
   "metadata": {},
   "source": [
    "## Define the required functions\n"
   ]
  },
  {
   "cell_type": "code",
   "execution_count": 9,
   "metadata": {
    "colab": {},
    "colab_type": "code",
    "id": "PgyYln11T4xq"
   },
   "outputs": [],
   "source": [
    "def split_data(data, prob):\n",
    "  \"\"\"split data into fractions [prob, 1 - prob]\"\"\"\n",
    "  results = [], []\n",
    "  for row in data:\n",
    "    results[0 if random.random() < prob else 1].append(row)\n",
    "  return results\n",
    "\n",
    "def tokenize(message):\n",
    "  message = message.lower() # convert to lowercase\n",
    "  all_words = re.findall(\"[a-z0-9']+\", message) # extract the words\n",
    "  return set(all_words) #\n",
    "\n",
    "def count_words(training_set):\n",
    "  \"\"\"training set consists of pairs (message, is_spam)\"\"\"\n",
    "  counts = defaultdict(lambda: [0, 0])\n",
    "  for message, is_spam in training_set:\n",
    "    for word in tokenize(message):\n",
    "      counts[word][0 if is_spam else 1] += 1\n",
    "  return counts\n",
    "\n",
    "def word_probabilities(counts, total_spams, total_non_spams, k=0.5):\n",
    "  \"\"\"turn the word_counts into a list of triplets\n",
    "  w, p(w | spam) and p(w | ~spam)\"\"\"\n",
    "  return [(w,\n",
    "      (spam + k) / (total_spams + 2 * k),\n",
    "      (non_spam + k) / (total_non_spams + 2 * k)) \n",
    "      for w, (spam, non_spam) in counts.items()]\n",
    "\n",
    "def spam_probability(word_probs, message):\n",
    "  message_words = tokenize(message)\n",
    "  log_prob_if_spam = log_prob_if_not_spam = 0.0\n",
    "  # iterate through each word in our vocabulary\n",
    "  for word, prob_if_spam, prob_if_not_spam in word_probs:\n",
    "    if word in message_words:\n",
    "      log_prob_if_spam += math.log(prob_if_spam)\n",
    "      log_prob_if_not_spam += math.log(prob_if_not_spam)\n",
    "      # if *word* doesn't appear in the message\n",
    "      # add the log probability of _not_ seeing it\n",
    "      # which is log(1 - probability of seeing it)\n",
    "    else:\n",
    "      log_prob_if_spam += math.log(1.0 - prob_if_spam)\n",
    "      log_prob_if_not_spam += math.log(1.0 - prob_if_not_spam)\n",
    "\n",
    "  prob_if_spam = math.exp(log_prob_if_spam)\n",
    "  prob_if_not_spam = math.exp(log_prob_if_not_spam)\n",
    "  return prob_if_spam / (prob_if_spam + prob_if_not_spam)\n",
    "\n",
    "def classify(self, message):\n",
    "  return spam_probability(self.word_probs, message)\n"
   ]
  },
  {
   "cell_type": "code",
   "execution_count": 10,
   "metadata": {},
   "outputs": [],
   "source": [
    "class NaiveBayesClassifier:\n",
    "  def __init__(self, k=0.5):\n",
    "    self.k = k\n",
    "    self.word_probs = []\n",
    "\n",
    "  def train(self, training_set):\n",
    "  # count spam and non-spam messages\n",
    "    num_spams = len([is_spam\n",
    "      for message, is_spam in training_set if is_spam])\n",
    "    num_non_spams = len(training_set) - num_spams\n",
    "    # run training data through our \"pipeline\"\n",
    "    word_counts = count_words(training_set)\n",
    "    self.word_probs = word_probabilities(word_counts, \n",
    "                                           num_spams, \n",
    "                                           num_non_spams, \n",
    "                                           self.k)\n",
    "        \n"
   ]
  },
  {
   "cell_type": "markdown",
   "metadata": {},
   "source": [
    "## Classification \n",
    "of the spam mail from ham mail. Assuming the file names contain spam and we will use this as a label"
   ]
  },
  {
   "cell_type": "code",
   "execution_count": 12,
   "metadata": {},
   "outputs": [],
   "source": [
    "# modify the path with wherever you've put the files\n",
    "path = r\"/spam/*\"\n",
    "data = []\n",
    "# glob.glob returns every filename that matches the wildcarded path\n",
    "for fn in glob.glob(path):\n",
    "  is_spam = \"ham\" not in fn\n",
    "  with open(fn,'r') as file:\n",
    "    for line in file:\n",
    "      if line.startswith(\"Subject:\"):\n",
    "        # remove the leading \"Subject: \" and keep what's left\n",
    "        subject = re.sub(r\"^Subject: \", \"\", line).strip()\n",
    "        data.append((subject, is_spam))\n",
    "\n",
    "random.seed(0) # just so you get the same answers as me\n",
    "train_data, test_data = split_data(data, 0.75)\n",
    "classifier = NaiveBayesClassifier()\n",
    "classifier.train(train_data)\n",
    "\n",
    "# triplets (subject, actual is_spam, predicted spam probability)\n",
    "classified = [(subject, is_spam, classifier.classify(subject))\n",
    "              for subject, is_spam in test_data]\n",
    "\n",
    "# assume that spam_probability > 0.5 corresponds to spam prediction\n",
    "# and count the combinations of (actual is_spam, predicted is_spam)\n",
    "counts = Counter((is_spam, spam_probability > 0.5)\n",
    "for _, is_spam, spam_probability in classified)\n"
   ]
  },
  {
   "cell_type": "code",
   "execution_count": null,
   "metadata": {},
   "outputs": [],
   "source": []
  }
 ],
 "metadata": {
  "colab": {
   "collapsed_sections": [],
   "include_colab_link": true,
   "name": "Copy of NaiveBayes",
   "provenance": []
  },
  "kernelspec": {
   "display_name": "Python 3",
   "language": "python",
   "name": "python3"
  },
  "language_info": {
   "codemirror_mode": {
    "name": "ipython",
    "version": 3
   },
   "file_extension": ".py",
   "mimetype": "text/x-python",
   "name": "python",
   "nbconvert_exporter": "python",
   "pygments_lexer": "ipython3",
   "version": "3.8.2"
  }
 },
 "nbformat": 4,
 "nbformat_minor": 4
}
