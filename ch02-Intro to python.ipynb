{
  "nbformat": 4,
  "nbformat_minor": 0,
  "metadata": {
    "colab": {
      "name": "py-intro-01.ipynb",
      "provenance": [],
      "collapsed_sections": [],
      "include_colab_link": true
    },
    "kernelspec": {
      "name": "python3",
      "display_name": "Python 3"
    }
  },
  "cells": [
    {
      "cell_type": "markdown",
      "metadata": {
        "id": "view-in-github",
        "colab_type": "text"
      },
      "source": [
        "<a href=\"https://colab.research.google.com/github/mehboobhussain/learn-python/blob/master/py_intro_01.ipynb\" target=\"_parent\"><img src=\"https://colab.research.google.com/assets/colab-badge.svg\" alt=\"Open In Colab\"/></a>"
      ]
    },
    {
      "cell_type": "markdown",
      "metadata": {
        "id": "lTbUflZmq3vY",
        "colab_type": "text"
      },
      "source": [
        "#**Variables and loops**\n",
        "#This section introduces some basic components of python\n"
      ]
    },
    {
      "cell_type": "code",
      "metadata": {
        "id": "6om83x9XrFmH",
        "colab_type": "code",
        "colab": {}
      },
      "source": [
        "\"\"\" This small code is a quick intro to python\n",
        "\"\"\"\n",
        "message = \"done\"\n",
        "# message is a variable of type string\n",
        "\n",
        "''' A loop can be set up against a list '''\n",
        "for i in [1,2,3]:\n",
        "    print (i, \"->\")\n",
        "    for j in {4,5,6}:\n",
        "        print (\"i=\", i, \"j=\",j)\n",
        "    print (i,j)\n",
        "print (message)"
      ],
      "execution_count": 0,
      "outputs": []
    },
    {
      "cell_type": "markdown",
      "metadata": {
        "id": "NY_qOi0jroMG",
        "colab_type": "text"
      },
      "source": [
        "#**Lists and arrays**\n",
        "#This setion explains how the lists and arrays will work in python\n"
      ]
    },
    {
      "cell_type": "code",
      "metadata": {
        "id": "pQbKSqhKsKqP",
        "colab_type": "code",
        "colab": {}
      },
      "source": [
        "# lists can be assigned to variables\n",
        "a = [1, 2, 3, 4, 5, 6]\n",
        "b = [10,20]\n",
        "\n",
        "print (\"now a is = \", a)\n",
        "print (\"and b is = \", b)\n",
        "\n",
        "# index of list elements start from position 0\n",
        "for i in a:\n",
        "    print ('element ', i, \" is at postion \", i-1)\n",
        "print (a[:2])  #all items from the begining till the 2nd item\n",
        "print (a[2:])  #all items from 2nd item in the list to the end\n",
        "\n",
        "name = \"mohammed ali jinah\"\n",
        "# this is a string and will be treated like a list of alphabets\n",
        "\n",
        "print ('last 5 characters in string = ', name[-5:])\n",
        "print ('first 8 characters are = ', name[:8])\n",
        "print ('len(name) = ', len(name))\n",
        "print ('len(a) = ', len(a))\n",
        "print ('sum(a) = ', sum(a))\n",
        "\n",
        "print ('is 1 avilable in a? ', 1 in a)\n",
        "print ('lists can be combined a+b =', a+b)\n",
        "x, y = b\n",
        "print (x, y)\n",
        "_, k = b   #multiple variables can be assigned in one go, _ means throw away\n",
        "print (\"k = \", k, \" and b = \", b)"
      ],
      "execution_count": 0,
      "outputs": []
    },
    {
      "cell_type": "markdown",
      "metadata": {
        "id": "vN5lBXrNPKKY",
        "colab_type": "text"
      },
      "source": [
        "#**Tuples and Dictionary**\n",
        "#Read only lists and using as reference\n",
        "Also use of exception"
      ]
    },
    {
      "cell_type": "code",
      "metadata": {
        "id": "zgiXBwXYpvLE",
        "colab_type": "code",
        "colab": {}
      },
      "source": [
        "#tuples are lists but the values cannot be changed\n",
        "tuple1 = (1,2)\n",
        "print ('tuple looks like ', tuple1)\n",
        "\n",
        "#try/except is try-catch type exception handling mechanism\n",
        "try:\n",
        "    tuple1[1] = 100\n",
        "except TypeError:\n",
        "    print (\"Nice try but tuples are protected\")\n",
        "    \n",
        "def sum_prod(x,y):\n",
        "    return (x+y), (x*y)\n",
        "\n",
        "sp = sum_prod (3,5)\n",
        "print ('value of sum product sp =', sp)\n",
        "\n",
        "#now the values returned from the function can be assigned to variables\n",
        "s, p = sum_prod(2,4)\n",
        "print (\"s = \", s, \"p = \", p)\n",
        "\n",
        "#Dictionaries are key-value pairs\n",
        "my_dict = {\"mehboob\":57, \"sunaina\":23, \"selena\":19}\n",
        "print (my_dict)\n",
        "print ('age of mehboob is' , my_dict[\"mehboob\"])\n",
        "#you can check if a key is part of the disctionary or not\n",
        "print (\"mehboob\" in my_dict, \"Mehboob\" in my_dict)\n",
        "print (my_dict.keys())\n",
        "print (my_dict.values())\n",
        "print (my_dict.items())\n",
        "\n",
        "#trying the dictionary a bit more\n",
        "document = [\"here\", \"is\", \"a\", \"document\", \"with\", \"some\", \"words\", \n",
        "            \"but\", \"these\", \"words\", \"count\", \"is\", \"real\"]\n",
        "word_count = {}\n",
        "word_count[\"is\"] = 1 # this adds the keys and values in the dictionary\n",
        "\n",
        "print (\"word count is \", word_count) #empty dictionary now\n",
        "for word in document:\n",
        "    if word in word_count: #will be true in each case as reading from document\n",
        "        word_count[word] += 1\n",
        "    else:\n",
        "        word_count[word] = 1\n",
        "\n",
        "print (\"word count is \", word_count)\n",
        "\n",
        "from collections import Counter\n",
        "c = Counter([1,2,3,3,4,4,4])\n",
        "print (c)"
      ],
      "execution_count": 0,
      "outputs": []
    },
    {
      "cell_type": "markdown",
      "metadata": {
        "id": "01p8l_tAVxHw",
        "colab_type": "text"
      },
      "source": [
        "#**Sets in python**\n"
      ]
    },
    {
      "cell_type": "code",
      "metadata": {
        "id": "mEvBnZwRVzcu",
        "colab_type": "code",
        "colab": {}
      },
      "source": [
        "# a bit about sets now\n",
        "a = set()\n",
        "a.add(1); a.add(2); a.add(3)\n",
        "print ('here is the set a ', a)\n",
        "print (\"i say 2 is in a. and it is\", 2 in a)\n",
        "\n",
        "wordlist = [\"yeah\", \"or\", \"woh\"]\n",
        "print (\"yeah\" in wordlist) # now we can find the word in the list\n",
        "\n",
        "wordset = set(wordlist) #but converting into a set yeilds a faster operation\n",
        "print ('to see if a word yeah is in the set ?', \"yeah\" in wordset)"
      ],
      "execution_count": 0,
      "outputs": []
    },
    {
      "cell_type": "markdown",
      "metadata": {
        "id": "WB5ofW1TqyLF",
        "colab_type": "text"
      },
      "source": [
        ""
      ]
    }
  ]
}
