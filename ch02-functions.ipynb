{
  "nbformat": 4,
  "nbformat_minor": 0,
  "metadata": {
    "colab": {
      "name": "functions.ipynb",
      "provenance": [],
      "private_outputs": true,
      "collapsed_sections": [],
      "include_colab_link": true
    },
    "kernelspec": {
      "name": "python3",
      "display_name": "Python 3"
    }
  },
  "cells": [
    {
      "cell_type": "markdown",
      "metadata": {
        "id": "view-in-github",
        "colab_type": "text"
      },
      "source": [
        "<a href=\"https://colab.research.google.com/github/mehboobhussain/learn-python/blob/master/functions.ipynb\" target=\"_parent\"><img src=\"https://colab.research.google.com/assets/colab-badge.svg\" alt=\"Open In Colab\"/></a>"
      ]
    },
    {
      "cell_type": "code",
      "metadata": {
        "id": "vcyBqfQmYPfv",
        "colab_type": "code",
        "colab": {}
      },
      "source": [
        "def return_benefits():\n",
        "  list_of_benefits = [\"More organized code\", \"More readable code\", \"Easier code reuse\", \n",
        "                      \"Allowing programmers to share and connect code together\"]\n",
        "  return list_of_benefits\n"
      ],
      "execution_count": 0,
      "outputs": []
    },
    {
      "cell_type": "markdown",
      "metadata": {
        "id": "C_DZX6kVVYL2",
        "colab_type": "text"
      },
      "source": [
        "Now there is a snippet to import sql database\n"
      ]
    },
    {
      "cell_type": "code",
      "metadata": {
        "id": "YBj24IqLkOfv",
        "colab_type": "code",
        "colab": {}
      },
      "source": [
        "def build_sentense(arg1):\n",
        "  return (arg1 + \" is a benefit of the functions\")"
      ],
      "execution_count": 0,
      "outputs": []
    },
    {
      "cell_type": "code",
      "metadata": {
        "id": "2tqgEHhMfZ4P",
        "colab_type": "code",
        "colab": {}
      },
      "source": [
        "print (return_benefits())\n",
        "print (build_sentense(return_benefits()[3]))"
      ],
      "execution_count": 0,
      "outputs": []
    },
    {
      "cell_type": "code",
      "metadata": {
        "id": "9z42I6iDCn34",
        "colab_type": "code",
        "colab": {}
      },
      "source": [
        "# we define a function that return twice the value of input\n",
        "def double_it(x):\n",
        "  return x*2\n",
        "\n",
        "# this function will add 100 to the input and return\n",
        "def add_10(y):\n",
        "  return y+100\n",
        "\n",
        "# this function will call a function whose name is provided as f with a parameter j\n",
        "def apply_to_one(f, j):\n",
        "  return f(j)\n",
        "\n",
        "# with same parameter param, apply_to_one will call other functions \n",
        "param = 3\n",
        "x = apply_to_one(add_10, param)\n",
        "print (f\"calling add_10()    and value of x is {x}\")\n",
        "x = apply_to_one(double_it, param)\n",
        "print (f\"calling double_it() and value of x is {x}\")"
      ],
      "execution_count": 0,
      "outputs": []
    }
  ]
}