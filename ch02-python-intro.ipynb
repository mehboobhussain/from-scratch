{
 "cells": [
  {
   "cell_type": "markdown",
   "metadata": {},
   "source": [
    "## A quick introduction to python"
   ]
  },
  {
   "cell_type": "markdown",
   "metadata": {},
   "source": [
    "## Lists\n",
    "Lists can assgined to variables"
   ]
  },
  {
   "cell_type": "code",
   "execution_count": 1,
   "metadata": {},
   "outputs": [
    {
     "name": "stdout",
     "output_type": "stream",
     "text": [
      "1 ->\n",
      "i= 1 j= 4\n",
      "i= 1 j= 5\n",
      "i= 1 j= 6\n",
      "1 6\n",
      "2 ->\n",
      "i= 2 j= 4\n",
      "i= 2 j= 5\n",
      "i= 2 j= 6\n",
      "2 6\n",
      "3 ->\n",
      "i= 3 j= 4\n",
      "i= 3 j= 5\n",
      "i= 3 j= 6\n",
      "3 6\n",
      "done\n",
      "1\n",
      "2\n",
      "3\n",
      "4\n",
      "5\n",
      "6\n",
      "[1, 2]\n",
      "[3, 4, 5, 6]\n",
      "now a is =  [1, 2, 3, 4, 5, 6]\n",
      "and b is =  [10, 20]\n"
     ]
    }
   ],
   "source": [
    "\"\"\" This small code is a quick intro to python\n",
    "\"\"\"\n",
    "message = \"done\"\n",
    "# message is a variable of type string\n",
    "\n",
    "''' A loop can be set up against a list '''\n",
    "for i in [1,2,3]:\n",
    "    print (i, \"->\")\n",
    "    for j in {4,5,6}:\n",
    "        print (\"i=\", i, \"j=\",j)\n",
    "    print (i,j)\n",
    "print (message)\n",
    "\n",
    "# lists can be assigned to variables\n",
    "a = [1, 2, 3, 4, 5, 6]\n",
    "b = [10,20]\n",
    "\n",
    "for i in a:\n",
    "    print (i)\n",
    "print (a[:2])  #all items from the begining till the 2nd item\n",
    "print (a[2:])  #all items from 2nd item in the list to the end\n",
    "\n",
    "print (\"now a is = \", a)\n",
    "print (\"and b is = \", b)\n",
    "\n",
    "\n"
   ]
  },
  {
   "cell_type": "markdown",
   "metadata": {},
   "source": [
    "## Strings manipulation\n",
    "Some string manipulations"
   ]
  },
  {
   "cell_type": "code",
   "execution_count": 2,
   "metadata": {},
   "outputs": [
    {
     "name": "stdout",
     "output_type": "stream",
     "text": [
      "element  1  is at postion  0\n",
      "element  2  is at postion  1\n",
      "element  3  is at postion  2\n",
      "element  4  is at postion  3\n",
      "element  5  is at postion  4\n",
      "element  6  is at postion  5\n",
      "[1, 2]\n",
      "[3, 4, 5, 6]\n",
      "last 5 characters in string =  jinah\n",
      "first 8 characters are =  mohammed\n",
      "len(name) =  18\n",
      "len(a) =  6\n",
      "sum(a) =  21\n",
      "is 1 avilable in a?  True\n",
      "lists can be combined a+b = [1, 2, 3, 4, 5, 6, 10, 20]\n",
      "10 20\n",
      "k =  20  and b =  [10, 20]\n",
      "jinah\n",
      "mohammed\n",
      "18\n",
      "6\n",
      "21\n",
      "True\n",
      "[1, 2, 3, 4, 5, 6, 10, 20]\n",
      "10 20\n",
      "k =  20\n"
     ]
    }
   ],
   "source": [
    "\n",
    "# index of list elements start from position 0\n",
    "for i in a:\n",
    "    print ('element ', i, \" is at postion \", i-1)\n",
    "print (a[:2])  #all items from the begining till the 2nd item\n",
    "print (a[2:])  #all items from 2nd item in the list to the end\n",
    "\n",
    "name = \"mohammed ali jinah\"\n",
    "# this is a string and will be treated like a list of alphabets\n",
    "\n",
    "print ('last 5 characters in string = ', name[-5:])\n",
    "print ('first 8 characters are = ', name[:8])\n",
    "print ('len(name) = ', len(name))\n",
    "print ('len(a) = ', len(a))\n",
    "print ('sum(a) = ', sum(a))\n",
    "\n",
    "print ('is 1 avilable in a? ', 1 in a)\n",
    "print ('lists can be combined a+b =', a+b)\n",
    "x, y = b\n",
    "print (x, y)\n",
    "_, k = b   #multiple variables can be assigned in one go, _ means throw away\n",
    "print (\"k = \", k, \" and b = \", b)\n",
    "name = \"mohammed ali jinah\"\n",
    "print (name[-5:])\n",
    "print (name[:8])\n",
    "print (len(name))\n",
    "print (len(a))\n",
    "print (sum(a))\n",
    "\n",
    "print (1 in a)\n",
    "print (a+b)\n",
    "x, y = b\n",
    "print (x, y)\n",
    "_, k = b   #multiple variables can be assigned in one go, _ means throw away\n",
    "print (\"k = \", k)\n",
    "\n"
   ]
  },
  {
   "cell_type": "markdown",
   "metadata": {},
   "source": [
    "A quick look at tuples"
   ]
  },
  {
   "cell_type": "code",
   "execution_count": 3,
   "metadata": {},
   "outputs": [
    {
     "name": "stdout",
     "output_type": "stream",
     "text": [
      "(1, 2)\n",
      "Nice try but tuples are protected\n",
      "(8, 15)\n",
      "s =  6 p =  8\n"
     ]
    }
   ],
   "source": [
    "#tuples are lists but the values cannot be changed\n",
    "tuple1 = (1,2)\n",
    "print (tuple1)\n",
    "\n",
    "#try/except is try-catch type exception handling mechanism\n",
    "\n",
    "try:\n",
    "    tuple1[1] = 100\n",
    "except TypeError: \n",
    "    print (\"Nice try but tuples are protected\")\n",
    "    \n",
    "def sum_prod(x,y):\n",
    "    return (x+y), (x*y)\n",
    "\n",
    "sp = sum_prod (3,5)\n",
    "print (sp)\n",
    "\n",
    "#now the values returned from the function is a tuole and can be assigned to variables\n",
    "s, p = sum_prod(2,4)\n",
    "print (\"s = \", s, \"p = \", p)\n",
    "\n"
   ]
  },
  {
   "cell_type": "markdown",
   "metadata": {},
   "source": [
    "Dictionaries"
   ]
  },
  {
   "cell_type": "code",
   "execution_count": 4,
   "metadata": {},
   "outputs": [
    {
     "name": "stdout",
     "output_type": "stream",
     "text": [
      "{'mehboob': 56, 'sunaina': 23, 'selena': 19}\n",
      "age of mehboob is 56\n",
      "True False\n",
      "dict_keys(['mehboob', 'sunaina', 'selena'])\n",
      "dict_values([56, 23, 19])\n",
      "dict_items([('mehboob', 56), ('sunaina', 23), ('selena', 19)])\n",
      "{'Mehboob': 556025563, 'Fatima': 555637584}\n",
      "great job Mehboob is in the phonebook\n",
      "the phone number is  556025563\n",
      "\n",
      "Now traversing the phone book\n",
      "-  ('Mehboob', 556025563)\n",
      "-  ('Fatima', 555637584)\n",
      "{'Fatima': 555637584}\n",
      "word count is  {'is': 1}\n",
      "word count is  {'is': 3, 'here': 1, 'a': 1, 'document': 1, 'with': 1, 'some': 1, 'words': 2, 'but': 1, 'these': 1, 'count': 1, 'real': 1}\n",
      "Counter({4: 3, 3: 2, 1: 1, 2: 1})\n",
      "{1, 2, 3}\n",
      "i say 2 is in a. and it is True\n",
      "True\n",
      "True\n"
     ]
    }
   ],
   "source": [
    "#Dictionaries are key-value pairs\n",
    "my_dict = {\"mehboob\":56, \"sunaina\":23, \"selena\":19}\n",
    "print (my_dict)\n",
    "print ('age of mehboob is' , my_dict[\"mehboob\"])\n",
    "#you can check if a key is part of the disctionary or not\n",
    "print (\"mehboob\" in my_dict, \"Mehboob\" in my_dict)\n",
    "print (my_dict.keys())\n",
    "print (my_dict.values())\n",
    "print (my_dict.items())\n",
    "\n",
    "\n",
    "phonebook = {\n",
    "    \"Mehboob\" : 556025563,\n",
    "    \"Fatima\" : 555637584\n",
    "}\n",
    "\n",
    "print (phonebook)\n",
    "username = \"Mehboob\"\n",
    "if username in phonebook:\n",
    "  print (\"great job\", username, \"is in the phonebook\")\n",
    "  print (\"the phone number is \",phonebook[username])\n",
    "  name = \"\"\n",
    "print (\"\\nNow traversing the phone book\")\n",
    "for x in phonebook.items():\n",
    "  print (\"-\",name, x)\n",
    "phonebook.pop(\"Mehboob\")\n",
    "print(phonebook)\n",
    "\n",
    "#trying the dictionary a bit more\n",
    "document = [\"here\", \"is\", \"a\", \"document\", \"with\", \"some\", \"words\", \n",
    "            \"but\", \"these\", \"words\", \"count\", \"is\", \"real\"]\n",
    "word_count = {}\n",
    "word_count[\"is\"] = 1 # this adds the keys and values in the dictionary\n",
    "\n",
    "print (\"word count is \", word_count) #empty dictionary now\n",
    "for word in document:\n",
    "    if word in word_count: #will be true in each case as reading from document\n",
    "        word_count[word] += 1\n",
    "    else:\n",
    "        word_count[word] = 1\n",
    "\n",
    "print (\"word count is \", word_count)\n",
    "\n",
    "from collections import Counter\n",
    "c = Counter([1,2,3,3,4,4,4])\n",
    "print (c)\n",
    "\n",
    "# a bit about sets now\n",
    "a = set()\n",
    "a.add(1); a.add(2); a.add(3)\n",
    "print (a)\n",
    "print (\"i say 2 is in a. and it is\", 2 in a)\n",
    "\n",
    "wordlist = [\"yeah\", \"or\", \"woh\"]\n",
    "print (\"yeah\" in wordlist) # now we can find the word in the list\n",
    "\n",
    "wordset = set(wordlist) #but converting into a set yeilds a faster operation\n",
    "print (\"yeah\" in wordset)"
   ]
  },
  {
   "cell_type": "markdown",
   "metadata": {},
   "source": [
    "## Classes\n",
    "Class is defined with the keyword class, name of the class and : not () are required Class can have it variables that are available to the instances of the class. However, the functions within the class are private and cant even see the variables defined at the class level To use these variables, we need to pass self as a parameter. It is equivalent to this in java"
   ]
  },
  {
   "cell_type": "code",
   "execution_count": 5,
   "metadata": {},
   "outputs": [],
   "source": [
    "class car:\n",
    "  def __init__(self, a=\"Car\", b=0, c=\"no\", d=\"generic\"):\n",
    "    self.name      = a\n",
    "    self.price     = b\n",
    "    self.color     = c\n",
    "    self.category  = d\n",
    "\n",
    "  def describe(self):\n",
    "    print (self.name, \"has a\", self.color, \"colour, it is a\", self.category, \"type and costs\", self.price)\n"
   ]
  },
  {
   "cell_type": "markdown",
   "metadata": {},
   "source": [
    "Once a class has been declared, you can create instances of the class by assigning class to variables. each variable is an instance of the classs. Instance variable inherits the global variables of the class as well the functions defined at the class level"
   ]
  },
  {
   "cell_type": "code",
   "execution_count": 6,
   "metadata": {},
   "outputs": [
    {
     "name": "stdout",
     "output_type": "stream",
     "text": [
      "Car has a no colour, it is a generic type and costs 0\n",
      "Mazda has a no colour, it is a generic type and costs 0\n",
      "Vitara has a no colour, it is a Coupe type and costs 50000\n"
     ]
    }
   ],
   "source": [
    "car1 = car()\n",
    "car1.describe()\n",
    "car1 = car(\"Mazda\")\n",
    "car1.describe()\n",
    "car1.name = \"Vitara\"\n",
    "car1.price = 50000\n",
    "car1.category = \"Coupe\"\n",
    "car1.describe()"
   ]
  },
  {
   "cell_type": "markdown",
   "metadata": {},
   "source": [
    "## Functions\n",
    "First the functions are defined"
   ]
  },
  {
   "cell_type": "code",
   "execution_count": 7,
   "metadata": {},
   "outputs": [],
   "source": [
    "def return_benefits():\n",
    "  list_of_benefits = [\"More organized code\", \"More readable code\", \"Easier code reuse\", \n",
    "                      \"Allowing programmers to share and connect code together\"]\n",
    "  return list_of_benefits\n",
    "\n",
    "def build_sentense(arg1):\n",
    "  return (arg1 + \" is a benefit of the functions\")\n"
   ]
  },
  {
   "cell_type": "markdown",
   "metadata": {},
   "source": [
    "This can be tested by function call"
   ]
  },
  {
   "cell_type": "code",
   "execution_count": 8,
   "metadata": {},
   "outputs": [
    {
     "name": "stdout",
     "output_type": "stream",
     "text": [
      "['More organized code', 'More readable code', 'Easier code reuse', 'Allowing programmers to share and connect code together']\n",
      "Allowing programmers to share and connect code together is a benefit of the functions\n"
     ]
    }
   ],
   "source": [
    "print (return_benefits())\n",
    "print (build_sentense(return_benefits()[3]))"
   ]
  },
  {
   "cell_type": "code",
   "execution_count": 9,
   "metadata": {},
   "outputs": [
    {
     "name": "stdout",
     "output_type": "stream",
     "text": [
      "calling add_10()    and value of x is 103\n",
      "calling double_it() and value of x is 6\n"
     ]
    }
   ],
   "source": [
    "# we define a function that return twice the value of input\n",
    "def double_it(x):\n",
    "  return x*2\n",
    "\n",
    "# this function will add 100 to the input and return\n",
    "def add_10(y):\n",
    "  return y+100\n",
    "\n",
    "# this function will call a function whose name is provided as f with a parameter j\n",
    "def apply_to_one(f, j):\n",
    "  return f(j)\n",
    "\n",
    "# with same parameter param, apply_to_one will call other functions \n",
    "param = 3\n",
    "x = apply_to_one(add_10, param)\n",
    "print (f\"calling add_10()    and value of x is {x}\")\n",
    "x = apply_to_one(double_it, param)\n",
    "print (f\"calling double_it() and value of x is {x}\")"
   ]
  }
 ],
 "metadata": {
  "kernelspec": {
   "display_name": "Python 3",
   "language": "python",
   "name": "python3"
  },
  "language_info": {
   "codemirror_mode": {
    "name": "ipython",
    "version": 3
   },
   "file_extension": ".py",
   "mimetype": "text/x-python",
   "name": "python",
   "nbconvert_exporter": "python",
   "pygments_lexer": "ipython3",
   "version": "3.8.2"
  }
 },
 "nbformat": 4,
 "nbformat_minor": 4
}
