{
 "cells": [
  {
   "cell_type": "code",
   "execution_count": 2,
   "metadata": {},
   "outputs": [],
   "source": [
    "import myLib as ml"
   ]
  },
  {
   "cell_type": "code",
   "execution_count": 4,
   "metadata": {
    "colab": {},
    "colab_type": "code",
    "id": "FocWes2R6Z31"
   },
   "outputs": [
    {
     "name": "stdout",
     "output_type": "stream",
     "text": [
      "[26.5, 51.0, 75.5]\n",
      "[337.66666666666663, 357.3333333333333, 677.0]\n",
      "34.84250278036869\n"
     ]
    }
   ],
   "source": [
    "score  = [10, 20, 30]\n",
    "age    = [3, 2, 1]\n",
    "salary = [1000, 1050, 2000]\n",
    "\n",
    "print (ml.vector_mean([age, ml.scalar_multiply(5, score)]))\n",
    "print (ml.vector_mean([score, age, salary]))\n",
    "\n",
    "print (ml.distance(age, score))\n"
   ]
  }
 ],
 "metadata": {
  "colab": {
   "authorship_tag": "ABX9TyNiXk8oijhGAe6ttutJsVt8",
   "include_colab_link": true,
   "name": "vectors.ipynb",
   "private_outputs": true,
   "provenance": []
  },
  "kernelspec": {
   "display_name": "Python 3",
   "language": "python",
   "name": "python3"
  },
  "language_info": {
   "codemirror_mode": {
    "name": "ipython",
    "version": 3
   },
   "file_extension": ".py",
   "mimetype": "text/x-python",
   "name": "python",
   "nbconvert_exporter": "python",
   "pygments_lexer": "ipython3",
   "version": "3.8.2"
  }
 },
 "nbformat": 4,
 "nbformat_minor": 1
}
