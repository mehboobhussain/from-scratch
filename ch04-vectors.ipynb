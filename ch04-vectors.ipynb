{
 "cells": [
  {
   "cell_type": "markdown",
   "metadata": {
    "colab_type": "text",
    "id": "view-in-github"
   },
   "source": [
    "<a href=\"https://colab.research.google.com/github/mehboobhussain/learn-python/blob/master/vectors.ipynb\" target=\"_parent\"><img src=\"https://colab.research.google.com/assets/colab-badge.svg\" alt=\"Open In Colab\"/></a>"
   ]
  },
  {
   "cell_type": "code",
   "execution_count": 0,
   "metadata": {
    "colab": {},
    "colab_type": "code",
    "id": "FocWes2R6Z31"
   },
   "outputs": [],
   "source": [
    "# -*- coding: utf-8 -*-\n",
    "\"\"\"\n",
    "Spyder Editor\n",
    "\n",
    "This is a temporary script file.\n",
    "\"\"\"\n",
    "from functools import reduce\n",
    "import math\n",
    "\n",
    "def vector_add(v, w):\n",
    "   \"\"\"adds corresponding elements\"\"\"\n",
    "   return [v_i + w_i for v_i, w_i in zip(v, w)]\n",
    "\n",
    "def vector_subtract(v, w):\n",
    "    \"\"\"subtracts corresponding elements\"\"\"\n",
    "    return [v_i - w_i for v_i, w_i in zip(v, w)]\n",
    "\n",
    "def vector_sum(vectors):\n",
    "    \"\"\"sums all corresponding elements\"\"\"\n",
    "    result = reduce(vector_add, vectors)\n",
    "    return result\n",
    " \n",
    "def scalar_multiply(c, v):\n",
    "    \"\"\"c is a number, v is a vector\"\"\"\n",
    "    return [c * v_i for v_i in v]\n",
    "\n",
    "def vector_mean(vectors):\n",
    "    \"\"\"compute the vector whose ith element is the mean of the ith elements of the input vectors\"\"\"\n",
    "    n = len(vectors)\n",
    "    return scalar_multiply(1/n, vector_sum(vectors))\n",
    "\n",
    "def vector_dot(v, w):    return sum(vi*wi for vi, wi in zip(v, w))\n",
    "\n",
    "def sum_of_squares(v): \n",
    "    return vector_dot(v, v)\n",
    "\n",
    "def magnitude (v):\n",
    "    return math.sqrt(sum_of_squares(v))\n",
    "\n",
    "def squared_distnace(v, w):\n",
    "    return (sum_of_squares(vector_subtract(v))) \n",
    "\n",
    "def distance (v, w):\n",
    "    return magnitude(vector_subtract(v, w)) \n",
    "\n",
    "  \n",
    "\n",
    "score  = [10, 20, 30]\n",
    "age    = [3, 2, 1]\n",
    "salary = [1000, 1050, 2000]\n",
    "\n",
    "print (vector_mean([age, scalar_multiply(5, score)]))\n",
    "print (vector_mean([score, age, salary]))\n",
    "\n",
    "print (distance(age, score))\n"
   ]
  },
  {
   "cell_type": "markdown",
   "metadata": {
    "colab_type": "text",
    "id": "aUk4b3kShlGx"
   },
   "source": [
    "# New Section"
   ]
  }
 ],
 "metadata": {
  "colab": {
   "authorship_tag": "ABX9TyNiXk8oijhGAe6ttutJsVt8",
   "include_colab_link": true,
   "name": "vectors.ipynb",
   "private_outputs": true,
   "provenance": []
  },
  "kernelspec": {
   "display_name": "Python 3",
   "language": "python",
   "name": "python3"
  },
  "language_info": {
   "codemirror_mode": {
    "name": "ipython",
    "version": 3
   },
   "file_extension": ".py",
   "mimetype": "text/x-python",
   "name": "python",
   "nbconvert_exporter": "python",
   "pygments_lexer": "ipython3",
   "version": "3.8.2"
  }
 },
 "nbformat": 4,
 "nbformat_minor": 1
}
