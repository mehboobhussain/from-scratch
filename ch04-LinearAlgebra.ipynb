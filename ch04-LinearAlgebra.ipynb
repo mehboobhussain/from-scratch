{
  "nbformat": 4,
  "nbformat_minor": 0,
  "metadata": {
    "colab": {
      "name": "LinearAlgebra.ipynb",
      "provenance": [],
      "private_outputs": true,
      "collapsed_sections": [],
      "authorship_tag": "ABX9TyNzSFSgKYft6Qcd6R2uIn7z",
      "include_colab_link": true
    },
    "kernelspec": {
      "name": "python3",
      "display_name": "Python 3"
    }
  },
  "cells": [
    {
      "cell_type": "markdown",
      "metadata": {
        "id": "view-in-github",
        "colab_type": "text"
      },
      "source": [
        "<a href=\"https://colab.research.google.com/github/mehboobhussain/learn-python/blob/master/LinearAlgebra.ipynb\" target=\"_parent\"><img src=\"https://colab.research.google.com/assets/colab-badge.svg\" alt=\"Open In Colab\"/></a>"
      ]
    },
    {
      "cell_type": "code",
      "metadata": {
        "id": "FocWes2R6Z31",
        "colab_type": "code",
        "colab": {}
      },
      "source": [
        "# -*- coding: utf-8 -*-\n",
        "\"\"\"\n",
        "Spyder Editor\n",
        "\n",
        "This is a temporary script file.\n",
        "\"\"\"\n",
        "from functools import reduce\n",
        "import math\n",
        "\n",
        "def vector_add(v, w):\n",
        "   \"\"\"adds corresponding elements\"\"\"\n",
        "   return [v_i + w_i for v_i, w_i in zip(v, w)]\n",
        "\n",
        "def vector_subtract(v, w):\n",
        "    \"\"\"subtracts corresponding elements\"\"\"\n",
        "    return [v_i - w_i for v_i, w_i in zip(v, w)]\n",
        "\n",
        "def vector_sum(vectors):\n",
        "    \"\"\"sums all corresponding elements\"\"\"\n",
        "    result = reduce(vector_add, vectors)\n",
        "    return result\n",
        " \n",
        "def scalar_multiply(c, v):\n",
        "    \"\"\"c is a number, v is a vector\"\"\"\n",
        "    return [c * v_i for v_i in v]\n",
        "\n",
        "def vector_mean(vectors):\n",
        "    \"\"\"compute the vector whose ith element is the mean of the ith elements of the input vectors\"\"\"\n",
        "    n = len(vectors)\n",
        "    return scalar_multiply(1/n, vector_sum(vectors))\n",
        "\n",
        "def vector_dot(v, w):    return sum(vi*wi for vi, wi in zip(v, w))\n",
        "\n",
        "def sum_of_squares(v): \n",
        "    return vector_dot(v, v)\n",
        "\n",
        "def magnitude (v):\n",
        "    return math.sqrt(sum_of_squares(v))\n",
        "\n",
        "def squared_distnace(v, w):\n",
        "    return (sum_of_squares(vector_subtract(v))) \n",
        "\n",
        "def distance (v, w):\n",
        "    return magnitude(vector_subtract(v, w))\n",
        "\n",
        "def shape(A):\n",
        "  num_rows = len(A)\n",
        "  num_cols = len(A[0]) if A else 0\n",
        "  return num_rows, num_cols\n",
        "\n",
        "def get_rows (A, i):\n",
        "  return A[i]\n",
        "\n",
        "def get_cols (A, j):\n",
        "  return [x[j] for x in A]\n",
        "\n",
        "def make_matrix (rows, cols, fn):\n",
        "  return [ [fn(i,j) for i in range(cols)] \n",
        "          for j in range(rows)]\n",
        "\n",
        "def one_diagonal (i,j):\n",
        "  return 1 if i == j else 0\n",
        "\n",
        "A = [[1,2,3], \n",
        "     [10,20,30]]\n",
        "B = [['apples', 'oranges', 'appricot'], \n",
        "     ['multan', 'lahore', 'bahawalpur']]\n",
        "\n",
        "C = make_matrix (5, 5, one_diagonal)\n",
        "print (C)\n"
      ],
      "execution_count": 0,
      "outputs": []
    }
  ]
}