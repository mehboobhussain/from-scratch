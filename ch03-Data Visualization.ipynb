{
  "nbformat": 4,
  "nbformat_minor": 0,
  "metadata": {
    "colab": {
      "name": "plot.ipynb",
      "provenance": [],
      "private_outputs": true,
      "authorship_tag": "ABX9TyPoaZS9++gA6ptK85Stq2W5",
      "include_colab_link": true
    },
    "kernelspec": {
      "name": "python3",
      "display_name": "Python 3"
    }
  },
  "cells": [
    {
      "cell_type": "markdown",
      "metadata": {
        "id": "view-in-github",
        "colab_type": "text"
      },
      "source": [
        "<a href=\"https://colab.research.google.com/github/mehboobhussain/learn-python/blob/master/plot.ipynb\" target=\"_parent\"><img src=\"https://colab.research.google.com/assets/colab-badge.svg\" alt=\"Open In Colab\"/></a>"
      ]
    },
    {
      "cell_type": "markdown",
      "metadata": {
        "id": "BwfY8UFFyGe9",
        "colab_type": "text"
      },
      "source": [
        "Plotting a graph in python is quite easy using matplotlib libraray. However, plotting the right graphs is challenging\n"
      ]
    },
    {
      "cell_type": "code",
      "metadata": {
        "id": "-JzMpwrfwUFd",
        "colab_type": "code",
        "colab": {}
      },
      "source": [
        "from matplotlib import pyplot as plt\n",
        "\n",
        "years = [1950,   1960,   1970,   1980,   1990,    2000,    2010]\n",
        "gdp   = [300.2, 543.3, 1075.9, 2862.5, 5979.6, 10289.7, 14958.3]\n",
        "#make sure number of elements in both the arrays are same\n",
        "\n",
        "plt.plot(years, gdp, color='green', marker = 'o', linestyle='solid')\n",
        "plt.title('here is the graph')\n",
        "plt.show()"
      ],
      "execution_count": 0,
      "outputs": []
    },
    {
      "cell_type": "markdown",
      "metadata": {
        "id": "lt7sTuMpzGXF",
        "colab_type": "text"
      },
      "source": [
        "Now lets try some bar graphs, we can do with the same data but lets \n",
        "take a new example\n"
      ]
    },
    {
      "cell_type": "code",
      "metadata": {
        "id": "ppSMrfkdzQoE",
        "colab_type": "code",
        "colab": {}
      },
      "source": [
        "movies = ['Annie Hill', 'Ben-Hur', 'Casablanca', 'Gandhi', 'West-side story']\n",
        "num_oscars = [5, 11, 3, 8, 10]\n",
        "xs = [i+0.1 for i, j in enumerate(movies)]\n",
        "xj = [j for i,j in enumerate(movies)]\n",
        "plt.bar(xs, num_oscars)\n",
        "plt.xlabel(xj)\n",
        "plt.title('My favorrite movies')"
      ],
      "execution_count": 0,
      "outputs": []
    },
    {
      "cell_type": "markdown",
      "metadata": {
        "id": "BRcNIMJII6K1",
        "colab_type": "text"
      },
      "source": [
        "Basically, a graph expects data in list format. Also the x-aix and y-asix as well as labels are supposed to be lists \n",
        "Only technical part is how the these list are generated dynamically. Once we understand it, then the rest is easy\n"
      ]
    },
    {
      "cell_type": "code",
      "metadata": {
        "id": "LwWn2YeTIXnP",
        "colab_type": "code",
        "colab": {}
      },
      "source": [
        "from collections import Counter\n",
        "grades = [83, 95, 91, 87, 70, 0, 85, 82, 100, 67, 73, 77, 0]\n",
        "decile = lambda grade: grade //10 * 10\n",
        "histogram = Counter(decile(grade) for grade in grades)\n",
        "\n",
        "keys = [x for x in histogram.keys()]\n",
        "values = [x for x in histogram.values()]\n",
        "print (keys, values)\n",
        "\n",
        "plt.bar(histogram.keys(), histogram.values(), width = 8)\n",
        "plt.axis([-5, 105, 0, 5])\n",
        "plt.xticks([10 * i for i in range(11)])\n",
        "plt.ylabel(\"No of students\")\n",
        "plt.title(\"Distribution of grades in class 1\")\n",
        "plt.show()\n",
        "\n",
        "mentions = [500, 505]\n",
        "years = [2013, 2014]\n",
        "plt.bar([2012.6, 2013.6], mentions, width = 0.8)\n",
        "plt.xticks(years)\n",
        "plt.axis([2012, 2014.5, 0, 550])\n",
        "plt.show()\n",
        "\n",
        "# line charts\n",
        "variance = [1, 2, 4, 8, 16, 32, 64, 128, 256]\n",
        "bias_squared = [256, 128, 64, 32, 16, 8, 4, 2, 1]\n",
        "zipped = [i for i in zip(variance, bias_squared)]\n",
        "total_error = [x + y for x, y in zipped]\n",
        "xs = [i for i, _ in enumerate(variance)]\n",
        "\n",
        "# we can make multiple calls to plt.plot\n",
        "# to show multiple series on the same chart\n",
        "plt.plot(xs, variance,     'g-', label = 'variance')\n",
        "plt.plot(xs, bias_squared, 'b-.',  label = 'bias')\n",
        "plt.plot(xs, total_error,  'r:.',  label = 'total error')\n",
        "\n",
        "#plt.plot(xs, variance, 'g-', label='variance') # green solid line\n",
        "#plt.plot(xs, bias_squared, 'r-.', label='bias^2') # red dot-dashed line\n",
        "#lt.plot(xs, total_error, 'b:', label='total error') # blue dotted line\n",
        "\n",
        "\n",
        "# because we've assigned labels to each series\n",
        "# we can get a legend for free\n",
        "# loc=9 means \"top center\"\n",
        "plt.legend(loc=9)\n",
        "plt.xlabel(\"model complexity\")\n",
        "plt.title(\"The Bias-Variance Tradeoff\")\n",
        "plt.show()\n",
        "\n",
        "friends = [ 70,  65,  72,  63,  71,  64,  60,  64,  67]\n",
        "minutes = [175, 170, 205, 120, 220, 130, 105, 145, 190]\n",
        "labels = ['a', 'b', 'c', 'd', 'e', 'f', 'g', 'h', 'i']\n",
        "plt.scatter(friends, minutes)\n",
        "# label each point\n",
        "for label, friend_count, minute_count in zip(labels, friends, minutes):\n",
        "   plt.annotate(label,\n",
        "                xy=(friend_count, minute_count), # put the label with its point\n",
        "                xytext=(5, -5), # but slightly offset\n",
        "                textcoords='offset points')\n",
        "plt.title(\"Daily Minutes vs. Number of Friends\")\n",
        "plt.show()\n",
        "\n",
        "test_1_grades = [ 99, 90, 85, 97, 80]\n",
        "test_2_grades = [100, 85, 60, 90, 70]\n",
        "plt.scatter(test_1_grades, test_2_grades)\n",
        "plt.axis(\"equal\")\n",
        "plt.title(\"Axes Aren't Comparable with plt.axis(equal) parameter\")\n",
        "plt.xlabel(\"test 1 grade\")\n",
        "plt.ylabel(\"test 2 grade\")\n",
        "plt.show()"
      ],
      "execution_count": 0,
      "outputs": []
    },
    {
      "cell_type": "code",
      "metadata": {
        "id": "A4FQTlUjI-pv",
        "colab_type": "code",
        "colab": {}
      },
      "source": [
        ""
      ],
      "execution_count": 0,
      "outputs": []
    }
  ]
}