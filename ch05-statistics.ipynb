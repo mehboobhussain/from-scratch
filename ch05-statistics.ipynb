{
 "cells": [
  {
   "cell_type": "markdown",
   "metadata": {},
   "source": [
    "## 1. First import the required libraries"
   ]
  },
  {
   "cell_type": "code",
   "execution_count": 11,
   "metadata": {},
   "outputs": [],
   "source": [
    "from scratch.stats       import *"
   ]
  },
  {
   "cell_type": "markdown",
   "metadata": {},
   "source": [
    "## 3. Test the functions"
   ]
  },
  {
   "cell_type": "code",
   "execution_count": 12,
   "metadata": {},
   "outputs": [
    {
     "name": "stdout",
     "output_type": "stream",
     "text": [
      "median         =  6\n",
      "Quantile       =  20\n",
      "mode           =  [2, 4, 6, 10, 20]\n",
      "de-mean        =  [-6.4, -4.4, -2.4000000000000004, 1.5999999999999996, 11.6]\n",
      "mean of demean =  -3.552713678800501e-16\n",
      "variance       =  50.800000000000004\n",
      "std dev        =  7.127411872482185\n",
      "inter-quartile =  6\n",
      "covariance     =  112.4\n",
      "correlation    =  0.9429490382736956\n"
     ]
    }
   ],
   "source": [
    "num_friends = [2,4,6,10,20]\n",
    "minutes     = [1,2,3,5,40]\n",
    "print ('median         = ', median(num_friends))\n",
    "print ('Quantile       = ', quantile(num_friends, 0.80))\n",
    "print ('mode           = ', mode(num_friends))\n",
    "print ('de-mean        = ', de_mean(num_friends))\n",
    "print ('mean of demean = ', mean(de_mean(num_friends)))\n",
    "print ('variance       = ', variance(num_friends))\n",
    "print ('std dev        = ', standard_deviation(num_friends))\n",
    "print ('inter-quartile = ', interquartile_range(num_friends))\n",
    "print ('covariance     = ', covariance(num_friends, minutes))\n",
    "print ('correlation    = ', correlation(num_friends, minutes))"
   ]
  },
  {
   "cell_type": "code",
   "execution_count": null,
   "metadata": {},
   "outputs": [],
   "source": []
  }
 ],
 "metadata": {
  "kernelspec": {
   "display_name": "Python 3",
   "language": "python",
   "name": "python3"
  },
  "language_info": {
   "codemirror_mode": {
    "name": "ipython",
    "version": 3
   },
   "file_extension": ".py",
   "mimetype": "text/x-python",
   "name": "python",
   "nbconvert_exporter": "python",
   "pygments_lexer": "ipython3",
   "version": "3.8.2"
  }
 },
 "nbformat": 4,
 "nbformat_minor": 4
}
