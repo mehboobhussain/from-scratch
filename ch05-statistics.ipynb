{
 "cells": [
  {
   "cell_type": "markdown",
   "metadata": {},
   "source": [
    "## 1. First import the required libraries"
   ]
  },
  {
   "cell_type": "code",
   "execution_count": 227,
   "metadata": {},
   "outputs": [],
   "source": [
    "from collections import Counter\n",
    "from statistics import mean\n",
    "import math"
   ]
  },
  {
   "cell_type": "markdown",
   "metadata": {},
   "source": [
    "## 2. Craete the required functions"
   ]
  },
  {
   "cell_type": "code",
   "execution_count": 228,
   "metadata": {},
   "outputs": [],
   "source": [
    "def vector_add(v, w):\n",
    "   \"\"\"adds corresponding elements\"\"\"\n",
    "   return [v_i + w_i for v_i, w_i in zip(v, w)]\n",
    "\n",
    "def vector_subtract(v, w):\n",
    "    \"\"\"subtracts corresponding elements\"\"\"\n",
    "    return [v_i - w_i for v_i, w_i in zip(v, w)]\n",
    "\n",
    "def vector_sum(vectors):\n",
    "    \"\"\"sums all corresponding elements\"\"\"\n",
    "    result = reduce(vector_add, vectors)\n",
    "    return result\n",
    " \n",
    "def scalar_multiply(c, v):\n",
    "    \"\"\"c is a number, v is a vector\"\"\"\n",
    "    return [c * v_i for v_i in v]\n",
    "\n",
    "def vector_mean(vectors):\n",
    "    \"\"\"compute the vector whose ith element is the mean of the ith elements of the input vectors\"\"\"\n",
    "    n = len(vectors)\n",
    "    return scalar_multiply(1/n, vector_sum(vectors))\n",
    "\n",
    "def vector_dot(v, w):    \n",
    "    return sum(vi*wi for vi, wi in zip(v, w))\n",
    "\n",
    "def sum_of_squares(v): \n",
    "    return vector_dot(v, v)\n",
    "\n",
    "def magnitude (v):\n",
    "    return math.sqrt(sum_of_squares(v))\n",
    "\n",
    "def squared_distnace(v, w):\n",
    "    return (sum_of_squares(vector_subtract(v))) \n",
    "\n",
    "def distance (v, w):\n",
    "    return magnitude(vector_subtract(v, w)) \n"
   ]
  },
  {
   "cell_type": "code",
   "execution_count": 229,
   "metadata": {},
   "outputs": [],
   "source": [
    "def mode(x):\n",
    "    '''returns a  list, might be more than one mode'''\n",
    "    counts = collections.Counter(x)\n",
    "    max_count = max(counts.values())\n",
    "    return [x_i for x_i, count in counts.items() \n",
    "            if count == max_count]\n"
   ]
  },
  {
   "cell_type": "code",
   "execution_count": 230,
   "metadata": {},
   "outputs": [],
   "source": [
    "def de_mean(x):\n",
    "    '''transalate x by substracting its mean so that the results has mean 0'''\n",
    "    x_bar = mean(x)\n",
    "    return [x_i - x_bar for x_i in x]\n"
   ]
  },
  {
   "cell_type": "code",
   "execution_count": 231,
   "metadata": {},
   "outputs": [],
   "source": [
    "def variance (x):\n",
    "    '''assumes x has at least 2 elements'''\n",
    "    n = len(x)\n",
    "    deviations = de_mean(x)\n",
    "    print ('sum of squares = ', sum_of_squares(deviations))\n",
    "    print ('divided by     = ', n-1)\n",
    "    return sum_of_squares(deviations) / (n-1)"
   ]
  },
  {
   "cell_type": "code",
   "execution_count": 232,
   "metadata": {},
   "outputs": [],
   "source": [
    "def covariance (x, y):\n",
    "    n = len(x)\n",
    "    return vector_dot(de_mean(x), de_mean(y)) / (n-1)\n"
   ]
  },
  {
   "cell_type": "code",
   "execution_count": 233,
   "metadata": {},
   "outputs": [],
   "source": [
    "def correlation(x, y):\n",
    "    stdev_x = standard_deviation(x)\n",
    "    stdev_y = standard_deviation(y)\n",
    "    if stdev_x > 0 and stdev_y > 0:\n",
    "        return covariance (x, y) / stdev_x / stdev_y\n",
    "    else:\n",
    "        return 0\n",
    "    "
   ]
  },
  {
   "cell_type": "code",
   "execution_count": 234,
   "metadata": {},
   "outputs": [],
   "source": [
    "def standard_deviation(x):\n",
    "    return math.sqrt(variance(x))\n"
   ]
  },
  {
   "cell_type": "code",
   "execution_count": 235,
   "metadata": {},
   "outputs": [],
   "source": [
    "def median(v):\n",
    "    '''find the middle most value of v'''\n",
    "    n = len(v)\n",
    "    sorted_v = sorted(v)\n",
    "    midpoint = n//2\n",
    "    if n % 2 == 1:\n",
    "        #if odd number elements in the list then return middle value\n",
    "        return sorted_v[midpoint]\n",
    "    else:\n",
    "        #if even, return the average of the middle values\n",
    "        lo = midpoint - 1\n",
    "        hi = midpoint \n",
    "        return (sorted_v[lo] + sorted_v[hi])/2\n",
    "    "
   ]
  },
  {
   "cell_type": "code",
   "execution_count": 236,
   "metadata": {},
   "outputs": [],
   "source": [
    "def quantile(x, p):\n",
    "    '''return p-th percentile value in x'''\n",
    "    p_index = int(p * len(x))\n",
    "    return sorted(x)[p_index]"
   ]
  },
  {
   "cell_type": "code",
   "execution_count": 237,
   "metadata": {},
   "outputs": [],
   "source": [
    "def interquartile_range(x):\n",
    "    return quantile(x, 0.75) - quantile (x, 0.25)"
   ]
  },
  {
   "cell_type": "markdown",
   "metadata": {},
   "source": [
    "## 3. Test the functions"
   ]
  },
  {
   "cell_type": "code",
   "execution_count": 247,
   "metadata": {},
   "outputs": [
    {
     "name": "stdout",
     "output_type": "stream",
     "text": [
      "median         =  6\n",
      "Quantile       =  20\n",
      "mode           =  [2, 4, 6, 10, 20]\n",
      "de-mean        =  [-6.4, -4.4, -2.4000000000000004, 1.5999999999999996, 11.6]\n",
      "mean of demean =  -3.552713678800501e-16\n",
      "sum of squares =  203.20000000000002\n",
      "divided by     =  4\n",
      "variance       =  50.800000000000004\n",
      "sum of squares =  203.20000000000002\n",
      "divided by     =  4\n",
      "std dev        =  7.127411872482185\n",
      "inter-quartile =  6\n",
      "covariance     =  112.4\n",
      "sum of squares =  203.20000000000002\n",
      "divided by     =  4\n",
      "sum of squares =  1118.8\n",
      "divided by     =  4\n",
      "correlation    =  0.9429490382736956\n"
     ]
    }
   ],
   "source": [
    "num_friends = [2,4,6,10,20]\n",
    "minutes     = [1,2,3,5,40]\n",
    "print ('median         = ', median(num_friends))\n",
    "print ('Quantile       = ', quantile(num_friends, 0.80))\n",
    "print ('mode           = ', mode(num_friends))\n",
    "print ('de-mean        = ', de_mean(num_friends))\n",
    "print ('mean of demean = ', mean(de_mean(num_friends)))\n",
    "print ('variance       = ', variance(num_friends))\n",
    "print ('std dev        = ', standard_deviation(num_friends))\n",
    "print ('inter-quartile = ', interquartile_range(num_friends))\n",
    "print ('covariance     = ', covariance(num_friends, minutes))\n",
    "print ('correlation    = ', correlation(num_friends, minutes))"
   ]
  },
  {
   "cell_type": "code",
   "execution_count": 211,
   "metadata": {},
   "outputs": [
    {
     "name": "stdout",
     "output_type": "stream",
     "text": [
      "2.0\n"
     ]
    }
   ],
   "source": [
    "print (sqrt(4))"
   ]
  },
  {
   "cell_type": "code",
   "execution_count": null,
   "metadata": {},
   "outputs": [],
   "source": []
  }
 ],
 "metadata": {
  "kernelspec": {
   "display_name": "Python 3",
   "language": "python",
   "name": "python3"
  },
  "language_info": {
   "codemirror_mode": {
    "name": "ipython",
    "version": 3
   },
   "file_extension": ".py",
   "mimetype": "text/x-python",
   "name": "python",
   "nbconvert_exporter": "python",
   "pygments_lexer": "ipython3",
   "version": "3.8.2"
  }
 },
 "nbformat": 4,
 "nbformat_minor": 4
}
